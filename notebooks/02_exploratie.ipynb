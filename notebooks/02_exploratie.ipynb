{
 "cells": [
  {
   "cell_type": "markdown",
   "id": "effd905b",
   "metadata": {},
   "source": [
    "# 📊 Exploratieve Analyse – Churn Inzichten"
   ]
  },
  {
   "cell_type": "code",
   "execution_count": null,
   "id": "db7fb428",
   "metadata": {},
   "outputs": [],
   "source": [
    "import pandas as pd\n",
    "import matplotlib.pyplot as plt\n",
    "import seaborn as sns\n",
    "\n",
    "sns.set(style='whitegrid')\n",
    "\n",
    "pad = '../data/cleaned/'\n",
    "\n",
    "# Data inladen\n",
    "klanten = pd.read_csv(pad + 'klanten_clean.csv')\n",
    "contracten = pd.read_csv(pad + 'contracten_clean.csv')\n",
    "opzeggingen = pd.read_csv(pad + 'opzeggingen_clean.csv')\n",
    "support = pd.read_csv(pad + 'support_tickets_clean.csv')\n",
    "\n",
    "# Merge\n",
    "df = klanten.merge(contracten, on='klant_id', how='left')\n",
    "df = df.merge(opzeggingen, on='klant_id', how='left')"
   ]
  },
  {
   "cell_type": "markdown",
   "id": "6f0d38b6",
   "metadata": {},
   "source": [
    "## 🔍 Churn per Regio"
   ]
  },
  {
   "cell_type": "code",
   "execution_count": null,
   "id": "880eff30",
   "metadata": {},
   "outputs": [],
   "source": [
    "churn_per_regio = df.groupby('regio')['opgezegd'].mean().sort_values(ascending=False)\n",
    "churn_per_regio.plot(kind='bar', title='Gemiddelde churn per regio', figsize=(8, 5))\n",
    "plt.ylabel('Churn percentage')\n",
    "plt.xlabel('Regio')\n",
    "plt.show()"
   ]
  },
  {
   "cell_type": "markdown",
   "id": "31092791",
   "metadata": {},
   "source": [
    "## 📊 Churn per Segment"
   ]
  },
  {
   "cell_type": "code",
   "execution_count": null,
   "id": "9bbb5b37",
   "metadata": {},
   "outputs": [],
   "source": [
    "churn_per_segment = df.groupby('segment')['opgezegd'].mean().sort_values()\n",
    "churn_per_segment.plot(kind='barh', title='Churn per klantsegment', color='orange')\n",
    "plt.xlabel('Churn percentage')\n",
    "plt.ylabel('Segment')\n",
    "plt.show()"
   ]
  },
  {
   "cell_type": "markdown",
   "id": "0754ad8d",
   "metadata": {},
   "source": [
    "## 🧾 Tevredenheid vs Churn"
   ]
  },
  {
   "cell_type": "code",
   "execution_count": null,
   "id": "c6d9eeee",
   "metadata": {},
   "outputs": [],
   "source": [
    "df_support = df.merge(support, on='klant_id', how='left')\n",
    "sns.boxplot(x='opgezegd', y='tevredenheidsscore', data=df_support)\n",
    "plt.title('Tevredenheidsscore vs Opzegging')\n",
    "plt.xlabel('Opgezegd (1 = ja)')\n",
    "plt.ylabel('Tevredenheidsscore')\n",
    "plt.show()"
   ]
  }
 ],
 "metadata": {},
 "nbformat": 4,
 "nbformat_minor": 5
}
