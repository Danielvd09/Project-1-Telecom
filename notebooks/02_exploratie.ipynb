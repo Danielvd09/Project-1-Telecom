{
 "cells": [
  {
   "cell_type": "markdown",
   "metadata": {},
   "source": [
    "# 📊 Exploratieve Data Analyse (EDA)\n",
    "We verkennen churn, support scores, regio's en klantsegmenten visueel."
   ]
  },
  {
   "cell_type": "code",
   "execution_count": null,
   "metadata": {},
   "outputs": [],
   "source": [
    "import pandas as pd\n",
    "import matplotlib.pyplot as plt\n",
    "import seaborn as sns\n",
    "sns.set(style=\"whitegrid\")\n",
    "\n",
    "# 📁 Data inladen\n",
    "pad = '../data/raw/'\n",
    "klanten = pd.read_csv(pad + 'klanten.csv')\n",
    "contracten = pd.read_csv(pad + 'contracten.csv')\n",
    "support = pd.read_csv(pad + 'support_tickets.csv')\n",
    "opzeggingen = pd.read_csv(pad + 'opzeggingen.csv')"
   ]
  },
  {
   "cell_type": "markdown",
   "metadata": {},
   "source": [
    "## 🔗 Data combineren"
   ]
  },
  {
   "cell_type": "code",
   "execution_count": null,
   "metadata": {},
   "outputs": [],
   "source": [
    "# Merge klant + contract + opzeg\n",
    "df = klanten.merge(contracten, on='klant_id', how='left')\n",
    "df = df.merge(opzeggingen, on='klant_id', how='left')"
   ]
  },
  {
   "cell_type": "markdown",
   "metadata": {},
   "source": [
    "## 📈 Churn per regio"
   ]
  },
  {
   "cell_type": "code",
   "execution_count": null,
   "metadata": {},
   "outputs": [],
   "source": [
    "churn_per_regio = df.groupby('regio')['opgezegd'].mean().sort_values(ascending=False)\n",
    "churn_per_regio.plot(kind='bar', figsize=(8,5), title='Gemiddelde churn per regio')\n",
    "plt.ylabel('Churn (%)')\n",
    "plt.show()"
   ]
  },
  {
   "cell_type": "markdown",
   "metadata": {},
   "source": [
    "## 📉 Tevredenheid vs Churn"
   ]
  },
  {
   "cell_type": "code",
   "execution_count": null,
   "metadata": {},
   "outputs": [],
   "source": [
    "# Merge support erbij\n",
    "df_support = df.merge(support, on='klant_id', how='left')\n",
    "\n",
    "sns.boxplot(x='opgezegd', y='tevredenheidsscore', data=df_support)\n",
    "plt.title('Tevredenheid vs Opzegging')\n",
    "plt.xlabel('Opgezegd (1 = ja)')\n",
    "plt.ylabel('Tevredenheidsscore')\n",
    "plt.show()"
   ]
  },
  {
   "cell_type": "markdown",
   "metadata": {},
   "source": [
    "## 🧠 Churn per Segment"
   ]
  },
  {
   "cell_type": "code",
   "execution_count": null,
   "metadata": {},
   "outputs": [],
   "source": [
    "churn_per_segment = df.groupby('segment')['opgezegd'].mean()\n",
    "churn_per_segment.plot(kind='barh', title='Churn per segment', color='orange')\n",
    "plt.xlabel('Churn (%)')\n",
    "plt.ylabel('Segment')\n",
    "plt.show()"
   ]
  }
 ],
 "metadata": {
  "kernelspec": {
   "display_name": "Python 3",
   "language": "python",
   "name": "python3"
  },
  "language_info": {
   "name": "python"
  }
 },
 "nbformat": 4,
 "nbformat_minor": 2
}
