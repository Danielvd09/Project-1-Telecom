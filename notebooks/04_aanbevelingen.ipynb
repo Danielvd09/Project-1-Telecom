{
 "cells": [
  {
   "cell_type": "markdown",
   "id": "036ac6ca",
   "metadata": {},
   "source": [
    "#  Notebook 4 – Aanbevelingen Formuleren\n",
    "In dit notebook bekijken we inzichten en schrijven we aanbevelingen op basis van data."
   ]
  },
  {
   "cell_type": "code",
   "execution_count": null,
   "id": "1eebcae3",
   "metadata": {},
   "outputs": [],
   "source": [
    "# Top inzichten uit churn data\n",
    "top_regio = kpi_tabel.sort_values('churn_percentage', ascending=False).head(3)\n",
    "top_regio[['regio', 'segment', 'churn_percentage']]"
   ]
  },
  {
   "cell_type": "markdown",
   "id": "b936458d",
   "metadata": {},
   "source": [
    "##  Aanbevelingen genereren (voor README of presentatie)"
   ]
  },
  {
   "cell_type": "code",
   "execution_count": null,
   "id": "702bd584",
   "metadata": {},
   "outputs": [],
   "source": [
    "aanbevelingen = [\n",
    "    \" Focus op klantbehoud in regio's met >40% churn\",\n",
    "    \" Verbeter supportervaring voor segment Zakelijk\",\n",
    "    \" Onderzoek waarom churn piekt in bepaalde maanden\",\n",
    "    \" Monitor tevredenheidsscore < 3.0 als churn-indicator\"\n",
    "]\n",
    "for a in aanbevelingen:\n",
    "    print(a)"
   ]
  }
 ],
 "metadata": {},
 "nbformat": 4,
 "nbformat_minor": 5
}
