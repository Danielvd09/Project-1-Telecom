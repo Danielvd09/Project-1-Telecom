{
 "cells": [
  {
   "cell_type": "markdown",
   "id": "d50938fa",
   "metadata": {},
   "source": [
    "# 📊 Telco Data Cleaning & Exploratie\n",
    "In dit notebook laden we de ruwe data, doen we joins, en schonen we de data op."
   ]
  },
  {
   "cell_type": "code",
   "execution_count": null,
   "id": "1174a539",
   "metadata": {},
   "outputs": [],
   "source": [
    "import pandas as pd\n",
    "import numpy as np\n",
    "\n",
    "pad = '../data/raw/'\n",
    "\n",
    "# Inladen datasets\n",
    "klanten = pd.read_csv(pad + 'klanten.csv')\n",
    "contracten = pd.read_csv(pad + 'contracten.csv')\n",
    "support = pd.read_csv(pad + 'support_tickets.csv')\n",
    "gebruik = pd.read_csv(pad + 'maandgebruik.csv')\n",
    "producten = pd.read_csv(pad + 'productcatalogus.csv')\n",
    "opzeggingen = pd.read_csv(pad + 'opzeggingen.csv')"
   ]
  },
  {
   "cell_type": "markdown",
   "id": "cc47fbd0",
   "metadata": {},
   "source": [
    "## 👁️ Eerste Blik op de Data"
   ]
  },
  {
   "cell_type": "code",
   "execution_count": null,
   "id": "a857541c",
   "metadata": {},
   "outputs": [],
   "source": [
    "klanten.head()"
   ]
  },
  {
   "cell_type": "code",
   "execution_count": null,
   "id": "5f7ba166",
   "metadata": {},
   "outputs": [],
   "source": [
    "contracten.head()"
   ]
  },
  {
   "cell_type": "code",
   "execution_count": null,
   "id": "8de849cd",
   "metadata": {},
   "outputs": [],
   "source": [
    "support.head()"
   ]
  },
  {
   "cell_type": "code",
   "execution_count": null,
   "id": "cb71d84d",
   "metadata": {},
   "outputs": [],
   "source": [
    "gebruik.head()"
   ]
  },
  {
   "cell_type": "code",
   "execution_count": null,
   "id": "86975b78",
   "metadata": {},
   "outputs": [],
   "source": [
    "producten.head()"
   ]
  },
  {
   "cell_type": "code",
   "execution_count": null,
   "id": "d0aa2629",
   "metadata": {},
   "outputs": [],
   "source": [
    "opzeggingen.head()"
   ]
  },
  {
   "cell_type": "markdown",
   "id": "0d8c0682",
   "metadata": {},
   "source": [
    "## 🧼 Data Cleaning"
   ]
  },
  {
   "cell_type": "code",
   "execution_count": null,
   "id": "7d3617f5",
   "metadata": {},
   "outputs": [],
   "source": [
    "# KLANTEN\n",
    "klanten['segment'] = klanten['segment'].fillna('Onbekend')\n",
    "klanten['regio'] = klanten['regio'].str.lower().str.strip().replace({\n",
    "    'noord': 'Noord',\n",
    "    'zuid': 'Zuid',\n",
    "    'oost': 'Oost',\n",
    "    'west': 'West',\n",
    "    'noordoost': 'Noordoost'\n",
    "}).str.capitalize()\n",
    "\n",
    "# CONTRACTEN\n",
    "contracten = contracten.dropna(subset=['klant_id', 'abonnementstype'])\n",
    "contracten['startdatum'] = pd.to_datetime(contracten['startdatum'], errors='coerce')\n",
    "contracten['einddatum'] = pd.to_datetime(contracten['einddatum'], errors='coerce')\n",
    "\n",
    "# SUPPORT\n",
    "support['tevredenheidsscore'] = pd.to_numeric(support['tevredenheidsscore'], errors='coerce')\n",
    "support['tevredenheidsscore'] = support['tevredenheidsscore'].fillna(support['tevredenheidsscore'].median())\n",
    "support['aangemaakt_op'] = pd.to_datetime(support['aangemaakt_op'], errors='coerce')\n",
    "support['opgelost_op'] = pd.to_datetime(support['opgelost_op'], errors='coerce')\n",
    "\n",
    "# MAANDGEBRUIK\n",
    "gebruik['gb_verbruikt'] = gebruik['gb_verbruikt'].fillna(0)\n",
    "gebruik['minuten_gebeld'] = gebruik['minuten_gebeld'].fillna(0)\n",
    "\n",
    "# OPZEGGINGEN\n",
    "opzeggingen['opgezegd'] = opzeggingen['opgezegd'].fillna(0).astype(int)\n",
    "opzeggingen['opzeggingsdatum'] = pd.to_datetime(opzeggingen['opzeggingsdatum'], errors='coerce')"
   ]
  },
  {
   "cell_type": "markdown",
   "id": "053e96f8",
   "metadata": {},
   "source": [
    "## 🔗 Join Dataframes"
   ]
  },
  {
   "cell_type": "code",
   "execution_count": null,
   "id": "2d77bdbe",
   "metadata": {},
   "outputs": [],
   "source": [
    "klantdata = klanten.merge(contracten, on='klant_id', how='left')\n",
    "klantdata = klantdata.merge(opzeggingen, on='klant_id', how='left')\n",
    "klantdata.head()"
   ]
  },
  {
   "cell_type": "markdown",
   "id": "58036ee1",
   "metadata": {},
   "source": [
    "## ❓ Missende Waardes"
   ]
  },
  {
   "cell_type": "code",
   "execution_count": null,
   "id": "5604c05d",
   "metadata": {},
   "outputs": [],
   "source": [
    "klantdata.isnull().sum()"
   ]
  }
 ],
 "metadata": {},
 "nbformat": 4,
 "nbformat_minor": 5
}
