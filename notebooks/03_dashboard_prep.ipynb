{
 "cells": [
  {
   "cell_type": "markdown",
   "id": "326d31d2",
   "metadata": {},
   "source": [
    "# 📊 Notebook 3 – Voorbereiding voor Dashboarding\n",
    "In dit notebook maken we kernmetrics klaar voor gebruik in Power BI of Streamlit."
   ]
  },
  {
   "cell_type": "code",
   "execution_count": null,
   "id": "f857d9e7",
   "metadata": {},
   "outputs": [],
   "source": [
    "import pandas as pd\n",
    "\n",
    "pad = '../data/cleaned/'\n",
    "\n",
    "# Data inladen\n",
    "klanten = pd.read_csv(pad + 'klanten_clean.csv')\n",
    "contracten = pd.read_csv(pad + 'contracten_clean.csv')\n",
    "opzeggingen = pd.read_csv(pad + 'opzeggingen_clean.csv')\n",
    "support = pd.read_csv(pad + 'support_tickets_clean.csv')\n",
    "\n",
    "# Merge tot 1 tabel\n",
    "df = klanten.merge(contracten, on='klant_id', how='left')\n",
    "df = df.merge(opzeggingen, on='klant_id', how='left')\n",
    "df = df.merge(support.groupby('klant_id')['tevredenheidsscore'].mean().reset_index(), on='klant_id', how='left')"
   ]
  },
  {
   "cell_type": "markdown",
   "id": "3d801c58",
   "metadata": {},
   "source": [
    "## 🎯 Maak KPI-tabel aan"
   ]
  },
  {
   "cell_type": "code",
   "execution_count": null,
   "id": "ebe64d00",
   "metadata": {},
   "outputs": [],
   "source": [
    "kpi_tabel = df.groupby(['regio', 'segment']).agg({\n",
    "    'klant_id': 'count',\n",
    "    'maandelijkse_kosten': 'mean',\n",
    "    'opgezegd': 'mean',\n",
    "    'tevredenheidsscore': 'mean'\n",
    "}).reset_index()\n",
    "\n",
    "kpi_tabel.rename(columns={\n",
    "    'klant_id': 'aantal_klanten',\n",
    "    'maandelijkse_kosten': 'gem_kosten',\n",
    "    'opgezegd': 'churn_percentage',\n",
    "    'tevredenheidsscore': 'gem_tevredenheid'\n",
    "}, inplace=True)\n",
    "\n",
    "kpi_tabel.head()"
   ]
  },
  {
   "cell_type": "markdown",
   "id": "b3b893f8",
   "metadata": {},
   "source": [
    "## 💾 Exporteer naar CSV"
   ]
  },
  {
   "cell_type": "code",
   "execution_count": null,
   "id": "89ab026e",
   "metadata": {},
   "outputs": [],
   "source": [
    "kpi_tabel.to_csv('../data/cleaned/kpi_tabel_dashboard.csv', index=False)"
   ]
  }
 ],
 "metadata": {},
 "nbformat": 4,
 "nbformat_minor": 5
}
