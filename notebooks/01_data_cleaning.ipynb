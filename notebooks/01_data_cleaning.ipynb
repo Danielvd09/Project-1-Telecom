{
 "cells": [
  {
   "cell_type": "markdown",
   "metadata": {},
   "source": [
    "# 📊 Telco Data Cleaning & Exploratie\n",
    "In dit notebook laden we de ruwe data, doen we joins, en verkennen we de eerste inzichten."
   ]
  },
  {
   "cell_type": "code",
   "execution_count": null,
   "metadata": {},
   "outputs": [],
   "source": [
    "import pandas as pd\n",
    "import matplotlib.pyplot as plt\n",
    "import seaborn as sns\n",
    "\n",
    "# 📁 Pad naar data (als je lokaal werkt)\n",
    "pad = '../data/raw/'\n",
    "\n",
    "# 📦 Inladen van datasets\n",
    "klanten = pd.read_csv(pad + 'klanten.csv')\n",
    "contracten = pd.read_csv(pad + 'contracten.csv')\n",
    "support = pd.read_csv(pad + 'support_tickets.csv')\n",
    "gebruik = pd.read_csv(pad + 'maandgebruik.csv')\n",
    "producten = pd.read_csv(pad + 'productcatalogus.csv')\n",
    "opzeggingen = pd.read_csv(pad + 'opzeggingen.csv')"
   ]
  },
  {
   "cell_type": "markdown",
   "metadata": {},
   "source": [
    "## 👁️ Eerste Blik op de Data"
   ]
  },
  {
   "cell_type": "code",
   "execution_count": null,
   "metadata": {},
   "outputs": [],
   "source": [
    "klanten.head()"
   ]
  },
  {
   "cell_type": "code",
   "execution_count": null,
   "metadata": {},
   "outputs": [],
   "source": [
    "contracten.head()"
   ]
  },
  {
   "cell_type": "code",
   "execution_count": null,
   "metadata": {},
   "outputs": [],
   "source": [
    "support.head()"
   ]
  },
  {
   "cell_type": "markdown",
   "metadata": {},
   "source": [
    "## 🔗 Join Dataframes"
   ]
  },
  {
   "cell_type": "code",
   "execution_count": null,
   "metadata": {},
   "outputs": [],
   "source": [
    "# Combineer klantgegevens met contracten en opzeggingen\n",
    "klantdata = klanten.merge(contracten, on='klant_id', how='left')\n",
    "klantdata = klantdata.merge(opzeggingen, on='klant_id', how='left')\n",
    "klantdata.head()"
   ]
  },
  {
   "cell_type": "markdown",
   "metadata": {},
   "source": [
    "## ❓ Missende Waardes"
   ]
  },
  {
   "cell_type": "code",
   "execution_count": null,
   "metadata": {},
   "outputs": [],
   "source": [
    "klantdata.isnull().sum()"
   ]
  }
 ],
 "metadata": {
  "kernelspec": {
   "display_name": "Python 3",
   "language": "python",
   "name": "python3"
  },
  "language_info": {
   "name": "python"
  }
 },
 "nbformat": 4,
 "nbformat_minor": 2
}
